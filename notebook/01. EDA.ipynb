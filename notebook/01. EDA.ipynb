{
 "cells": [
  {
   "cell_type": "code",
   "execution_count": 1,
   "metadata": {
    "collapsed": true
   },
   "outputs": [],
   "source": [
    "import pandas as pd\n",
    "import seaborn as sns\n",
    "import numpy as np\n",
    "import matplotlib.pyplot as plt\n",
    "import time\n",
    "\n",
    "%matplotlib inline"
   ]
  },
  {
   "cell_type": "code",
   "execution_count": 2,
   "metadata": {
    "collapsed": false,
    "scrolled": true
   },
   "outputs": [
    {
     "name": "stderr",
     "output_type": "stream",
     "text": [
      "C:\\Users\\Byeon\\Anaconda3\\lib\\site-packages\\IPython\\core\\interactiveshell.py:2723: DtypeWarning: Columns (5,8,11,15) have mixed types. Specify dtype option on import or set low_memory=False.\n",
      "  interactivity=interactivity, compiler=compiler, result=result)\n"
     ]
    }
   ],
   "source": [
    "train_data = pd.read_csv(\"../input/train_ver2.csv\")"
   ]
  },
  {
   "cell_type": "markdown",
   "metadata": {},
   "source": [
    "# 데이터 탐색 ( EDA )"
   ]
  },
  {
   "cell_type": "markdown",
   "metadata": {},
   "source": [
    "- 데이터의 타입이 무엇인가?\n",
    "- 각 변수들이 의미하는 것이 무엇인가?\n",
    "- 중복된 변수가 있는가?\n",
    "- 결측치는 존재하는가? => 존재한다면 결측치를 그냥 제거할 것인가 0으로 처리할 것인가?\n",
    "- 숫자처럼 보이지만 문자인 것들이 존재하는가?\n",
    "- 데이터의 분포는 어떻게 되는가?\n",
    "- 갑자기 데이터의 비율이 변하는 시기가 있는가?\n",
    "\n",
    "- 다변량 변수가 있는가? => Feature 엔지니어링\n",
    "- histogram, boxplot, violinplot\n",
    "\n",
    "이 모든 것은 끊임없이 가지고 놀아야 한다..!!! 이 과정을 소홀히하지 말자"
   ]
  },
  {
   "cell_type": "code",
   "execution_count": 8,
   "metadata": {
    "collapsed": false
   },
   "outputs": [
    {
     "name": "stdout",
     "output_type": "stream",
     "text": [
      "Index(['fecha_dato', 'ncodpers', 'ind_empleado', 'pais_residencia', 'sexo',\n",
      "       'age', 'fecha_alta', 'ind_nuevo', 'antiguedad', 'indrel',\n",
      "       'ult_fec_cli_1t', 'indrel_1mes', 'tiprel_1mes', 'indresi', 'indext',\n",
      "       'conyuemp', 'canal_entrada', 'indfall', 'tipodom', 'cod_prov',\n",
      "       'nomprov', 'ind_actividad_cliente', 'renta', 'segmento',\n",
      "       'ind_ahor_fin_ult1', 'ind_aval_fin_ult1', 'ind_cco_fin_ult1',\n",
      "       'ind_cder_fin_ult1', 'ind_cno_fin_ult1', 'ind_ctju_fin_ult1',\n",
      "       'ind_ctma_fin_ult1', 'ind_ctop_fin_ult1', 'ind_ctpp_fin_ult1',\n",
      "       'ind_deco_fin_ult1', 'ind_deme_fin_ult1', 'ind_dela_fin_ult1',\n",
      "       'ind_ecue_fin_ult1', 'ind_fond_fin_ult1', 'ind_hip_fin_ult1',\n",
      "       'ind_plan_fin_ult1', 'ind_pres_fin_ult1', 'ind_reca_fin_ult1',\n",
      "       'ind_tjcr_fin_ult1', 'ind_valo_fin_ult1', 'ind_viv_fin_ult1',\n",
      "       'ind_nomina_ult1', 'ind_nom_pens_ult1', 'ind_recibo_ult1'],\n",
      "      dtype='object')\n",
      "   fecha_dato  ncodpers ind_empleado pais_residencia sexo  age  fecha_alta  \\\n",
      "0  2015-01-28   1375586            N              ES    H   35  2015-01-12   \n",
      "1  2015-01-28   1050611            N              ES    V   23  2012-08-10   \n",
      "2  2015-01-28   1050612            N              ES    V   23  2012-08-10   \n",
      "3  2015-01-28   1050613            N              ES    H   22  2012-08-10   \n",
      "4  2015-01-28   1050614            N              ES    V   23  2012-08-10   \n",
      "\n",
      "   ind_nuevo antiguedad  indrel       ...        ind_hip_fin_ult1  \\\n",
      "0        0.0          6     1.0       ...                       0   \n",
      "1        0.0         35     1.0       ...                       0   \n",
      "2        0.0         35     1.0       ...                       0   \n",
      "3        0.0         35     1.0       ...                       0   \n",
      "4        0.0         35     1.0       ...                       0   \n",
      "\n",
      "  ind_plan_fin_ult1 ind_pres_fin_ult1 ind_reca_fin_ult1 ind_tjcr_fin_ult1  \\\n",
      "0                 0                 0                 0                 0   \n",
      "1                 0                 0                 0                 0   \n",
      "2                 0                 0                 0                 0   \n",
      "3                 0                 0                 0                 0   \n",
      "4                 0                 0                 0                 0   \n",
      "\n",
      "  ind_valo_fin_ult1 ind_viv_fin_ult1 ind_nomina_ult1  ind_nom_pens_ult1  \\\n",
      "0                 0                0             0.0                0.0   \n",
      "1                 0                0             0.0                0.0   \n",
      "2                 0                0             0.0                0.0   \n",
      "3                 0                0             0.0                0.0   \n",
      "4                 0                0             0.0                0.0   \n",
      "\n",
      "   ind_recibo_ult1  \n",
      "0                0  \n",
      "1                0  \n",
      "2                0  \n",
      "3                0  \n",
      "4                0  \n",
      "\n",
      "[5 rows x 48 columns]\n",
      "<class 'pandas.core.frame.DataFrame'>\n",
      "RangeIndex: 13647309 entries, 0 to 13647308\n",
      "Data columns (total 48 columns):\n",
      "fecha_dato               object\n",
      "ncodpers                 int64\n",
      "ind_empleado             object\n",
      "pais_residencia          object\n",
      "sexo                     object\n",
      "age                      object\n",
      "fecha_alta               object\n",
      "ind_nuevo                float64\n",
      "antiguedad               object\n",
      "indrel                   float64\n",
      "ult_fec_cli_1t           object\n",
      "indrel_1mes              object\n",
      "tiprel_1mes              object\n",
      "indresi                  object\n",
      "indext                   object\n",
      "conyuemp                 object\n",
      "canal_entrada            object\n",
      "indfall                  object\n",
      "tipodom                  float64\n",
      "cod_prov                 float64\n",
      "nomprov                  object\n",
      "ind_actividad_cliente    float64\n",
      "renta                    float64\n",
      "segmento                 object\n",
      "ind_ahor_fin_ult1        int64\n",
      "ind_aval_fin_ult1        int64\n",
      "ind_cco_fin_ult1         int64\n",
      "ind_cder_fin_ult1        int64\n",
      "ind_cno_fin_ult1         int64\n",
      "ind_ctju_fin_ult1        int64\n",
      "ind_ctma_fin_ult1        int64\n",
      "ind_ctop_fin_ult1        int64\n",
      "ind_ctpp_fin_ult1        int64\n",
      "ind_deco_fin_ult1        int64\n",
      "ind_deme_fin_ult1        int64\n",
      "ind_dela_fin_ult1        int64\n",
      "ind_ecue_fin_ult1        int64\n",
      "ind_fond_fin_ult1        int64\n",
      "ind_hip_fin_ult1         int64\n",
      "ind_plan_fin_ult1        int64\n",
      "ind_pres_fin_ult1        int64\n",
      "ind_reca_fin_ult1        int64\n",
      "ind_tjcr_fin_ult1        int64\n",
      "ind_valo_fin_ult1        int64\n",
      "ind_viv_fin_ult1         int64\n",
      "ind_nomina_ult1          float64\n",
      "ind_nom_pens_ult1        float64\n",
      "ind_recibo_ult1          int64\n",
      "dtypes: float64(8), int64(23), object(17)\n",
      "memory usage: 4.9+ GB\n",
      "None\n",
      "Wall time: 41 ms\n"
     ]
    }
   ],
   "source": [
    "%%time\n",
    "print(train_data.columns)\n",
    "print(train_data.head())\n",
    "print(train_data.info())"
   ]
  },
  {
   "cell_type": "code",
   "execution_count": 30,
   "metadata": {
    "collapsed": false
   },
   "outputs": [
    {
     "data": {
      "text/plain": [
       "Index(['fecha_dato', 'ncodpers', 'ind_empleado', 'pais_residencia', 'sexo',\n",
       "       'age', 'fecha_alta', 'ind_nuevo', 'antiguedad', 'indrel',\n",
       "       'ult_fec_cli_1t', 'indrel_1mes', 'tiprel_1mes', 'indresi', 'indext',\n",
       "       'conyuemp', 'canal_entrada', 'indfall', 'tipodom', 'cod_prov',\n",
       "       'nomprov', 'ind_actividad_cliente', 'renta', 'segmento',\n",
       "       'ind_ahor_fin_ult1', 'ind_aval_fin_ult1', 'ind_cco_fin_ult1',\n",
       "       'ind_cder_fin_ult1', 'ind_cno_fin_ult1', 'ind_ctju_fin_ult1',\n",
       "       'ind_ctma_fin_ult1', 'ind_ctop_fin_ult1', 'ind_ctpp_fin_ult1',\n",
       "       'ind_deco_fin_ult1', 'ind_deme_fin_ult1', 'ind_dela_fin_ult1',\n",
       "       'ind_ecue_fin_ult1', 'ind_fond_fin_ult1', 'ind_hip_fin_ult1',\n",
       "       'ind_plan_fin_ult1', 'ind_pres_fin_ult1', 'ind_reca_fin_ult1',\n",
       "       'ind_tjcr_fin_ult1', 'ind_valo_fin_ult1', 'ind_viv_fin_ult1',\n",
       "       'ind_nomina_ult1', 'ind_nom_pens_ult1', 'ind_recibo_ult1'],\n",
       "      dtype='object')"
      ]
     },
     "execution_count": 30,
     "metadata": {},
     "output_type": "execute_result"
    }
   ],
   "source": [
    "train_data.columns"
   ]
  },
  {
   "cell_type": "code",
   "execution_count": null,
   "metadata": {
    "collapsed": true
   },
   "outputs": [],
   "source": []
  }
 ],
 "metadata": {
  "kernelspec": {
   "display_name": "Python 3",
   "language": "python",
   "name": "python3"
  },
  "language_info": {
   "codemirror_mode": {
    "name": "ipython",
    "version": 3
   },
   "file_extension": ".py",
   "mimetype": "text/x-python",
   "name": "python",
   "nbconvert_exporter": "python",
   "pygments_lexer": "ipython3",
   "version": "3.5.1"
  }
 },
 "nbformat": 4,
 "nbformat_minor": 0
}
